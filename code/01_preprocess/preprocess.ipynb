{
 "cells": [
  {
   "cell_type": "markdown",
   "metadata": {},
   "source": [
    "Merge output files in subfolder"
   ]
  },
  {
   "cell_type": "code",
   "execution_count": 2,
   "metadata": {},
   "outputs": [],
   "source": [
    "import os\n",
    "\n",
    "# Define the path to the output folder\n",
    "output_folder = \"../../output\"\n",
    "\n",
    "# Get a list of all subfolders in the output folder\n",
    "subfolders = [f.path for f in os.scandir(output_folder) if f.is_dir()]\n",
    "\n",
    "# Initialize an empty list to store the contents of the output files\n",
    "output_lines = []\n",
    "\n",
    "# Iterate over each subfolder\n",
    "for subfolder in subfolders:\n",
    "    # Define the path to the output file in the current subfolder\n",
    "    output_file = os.path.join(subfolder, \"output.csv\")\n",
    "    \n",
    "    # Read the contents of the output file\n",
    "    with open(output_file, \"r\") as file:\n",
    "        lines = file.readlines()\n",
    "    \n",
    "    # Append the lines to the output_lines list\n",
    "    output_lines.extend(lines)\n",
    "\n",
    "# Define the path to the merged output file\n",
    "merged_file = os.path.join(\".\", \"merged.csv\")\n",
    "\n",
    "# Write the merged output lines to the merged output file\n",
    "with open(merged_file, \"w\") as file:\n",
    "    file.writelines(output_lines)\n"
   ]
  },
  {
   "cell_type": "markdown",
   "metadata": {},
   "source": [
    "Process the raw output file, by removing header lines and spaces"
   ]
  },
  {
   "cell_type": "code",
   "execution_count": 3,
   "metadata": {},
   "outputs": [],
   "source": [
    "with open('./merged.csv', 'r') as file:\n",
    "    lines = file.readlines()\n",
    "\n",
    "# Remove all spaces in all rows\n",
    "lines = [line.replace(' ', '') for line in lines]\n",
    "\n",
    "# Remove lines that are the same as the first one\n",
    "header = lines[0]\n",
    "lines = [line for line in lines[1:] if line != lines[0]]\n",
    "\n",
    "# Join the lines back into a single string\n",
    "output = ''.join(lines)\n",
    "\n",
    "# Save the output to a file\n",
    "with open('preprocessed.csv', 'w') as file:\n",
    "    file.write(header)\n",
    "    file.write(output)\n"
   ]
  },
  {
   "cell_type": "markdown",
   "metadata": {},
   "source": [
    "Process the data in pandas"
   ]
  },
  {
   "cell_type": "code",
   "execution_count": 5,
   "metadata": {},
   "outputs": [],
   "source": [
    "import pandas as pd\n",
    "\n",
    "# Read the CSV file into a pandas DataFrame\n",
    "df = pd.read_csv('preprocessed.csv')\n",
    "df = df[df['time'] != 0]\n",
    "df.drop('run_id', axis=1, inplace=True)\n",
    "df.drop('bin_name', axis=1, inplace=True)\n",
    "\n",
    "# Display the DataFrame\n",
    "df.to_csv('preprocessed.csv', index=False)\n"
   ]
  },
  {
   "cell_type": "markdown",
   "metadata": {},
   "source": [
    "XAI - provides a way to compute and visualize the importance of features using premutation importance"
   ]
  },
  {
   "cell_type": "code",
   "execution_count": 6,
   "metadata": {},
   "outputs": [
    {
     "data": {
      "text/plain": [
       "config_name                   object\n",
       "const_basicHintCount           int64\n",
       "const_enableBasicHead          int64\n",
       "const_enableDense              int64\n",
       "const_enableDense2             int64\n",
       "const_enableDensifySplit       int64\n",
       "const_enableHash               int64\n",
       "const_enableHashAdapt          int64\n",
       "const_enableHeadNode           int64\n",
       "const_enablePrefix             int64\n",
       "const_hashSimdWidth            int64\n",
       "const_hashSortUseStdMerge      int64\n",
       "const_hashUseCrc32             int64\n",
       "const_hashUseSimd              int64\n",
       "const_headNode4HintCount       int64\n",
       "const_headNode8HintCount       int64\n",
       "const_pageSizeInner            int64\n",
       "const_pageSizeLeaf             int64\n",
       "data_name                     object\n",
       "data_size                      int64\n",
       "data_sorted                    int64\n",
       "density                      float64\n",
       "op                            object\n",
       "payload_size                   int64\n",
       "rand_seed                      int64\n",
       "ycsb_range_len                 int64\n",
       "ycsb_zipf                    float64\n",
       "time                         float64\n",
       "nodeCount_Leaf                 int64\n",
       "nodeCount_Inner                int64\n",
       "nodeCount_Dense                int64\n",
       "nodeCount_Hash                 int64\n",
       "nodeCount_Head4                int64\n",
       "nodeCount_Head8                int64\n",
       "nodeCount_Dense2               int64\n",
       "counted_final_key_count        int64\n",
       "cycle                        float64\n",
       "instr                        float64\n",
       "L1_miss                      float64\n",
       "LLC_miss                     float64\n",
       "br_miss                      float64\n",
       "task                         float64\n",
       "scale                        float64\n",
       "IPC                          float64\n",
       "CPU                          float64\n",
       "GHz                          float64\n",
       "dtype: object"
      ]
     },
     "execution_count": 6,
     "metadata": {},
     "output_type": "execute_result"
    }
   ],
   "source": [
    "# check the data types\n",
    "df.dtypes"
   ]
  },
  {
   "cell_type": "markdown",
   "metadata": {},
   "source": [
    "SHAP file"
   ]
  },
  {
   "cell_type": "code",
   "execution_count": 1,
   "metadata": {},
   "outputs": [],
   "source": [
    "with open('./shap_raw.csv', 'r') as file:\n",
    "    lines = file.readlines()\n",
    "\n",
    "# Remove all spaces in all rows\n",
    "lines = [line.replace(' ', '') for line in lines]\n",
    "\n",
    "# Remove lines that are the same as the first one\n",
    "header = lines[0]\n",
    "lines = [line for line in lines[1:] if line != lines[0]]\n",
    "\n",
    "# Join the lines back into a single string\n",
    "output = ''.join(lines)\n",
    "\n",
    "# Save the output to a file\n",
    "with open('shap_raw.csv', 'w') as file:\n",
    "    file.write(header)\n",
    "    file.write(output)\n"
   ]
  },
  {
   "cell_type": "code",
   "execution_count": 2,
   "metadata": {},
   "outputs": [],
   "source": [
    "import pandas as pd\n",
    "\n",
    "# Read the CSV file into a pandas DataFrame\n",
    "df = pd.read_csv('shap_raw.csv')\n",
    "df = df[df['time'] != 0]\n",
    "df.drop('run_id', axis=1, inplace=True)\n",
    "df.drop('bin_name', axis=1, inplace=True)\n",
    "df.drop(['cycle', 'instr', 'LLC_miss','CPU','L1_miss', 'br_miss', 'scale', 'counted_final_key_count', 'GHz', 'time', 'task', 'IPC'], axis=1, inplace=True)\n",
    "\n",
    "# Display the DataFrame\n",
    "df.to_csv('shap_raw.csv', index=False)"
   ]
  },
  {
   "cell_type": "code",
   "execution_count": null,
   "metadata": {},
   "outputs": [],
   "source": []
  }
 ],
 "metadata": {
  "kernelspec": {
   "display_name": "Python 3",
   "language": "python",
   "name": "python3"
  },
  "language_info": {
   "codemirror_mode": {
    "name": "ipython",
    "version": 3
   },
   "file_extension": ".py",
   "mimetype": "text/x-python",
   "name": "python",
   "nbconvert_exporter": "python",
   "pygments_lexer": "ipython3",
   "version": "3.11.4"
  }
 },
 "nbformat": 4,
 "nbformat_minor": 2
}
