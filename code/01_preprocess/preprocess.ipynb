{
 "cells": [
  {
   "cell_type": "markdown",
   "metadata": {},
   "source": [
    "Merge output files in subfolder"
   ]
  },
  {
   "cell_type": "code",
   "execution_count": 2,
   "metadata": {},
   "outputs": [],
   "source": [
    "import os\n",
    "\n",
    "# Define the path to the output folder\n",
    "output_folder = \"../../output\"\n",
    "\n",
    "# Get a list of all subfolders in the output folder\n",
    "subfolders = [f.path for f in os.scandir(output_folder) if f.is_dir()]\n",
    "\n",
    "# Initialize an empty list to store the contents of the output files\n",
    "output_lines = []\n",
    "\n",
    "# Iterate over each subfolder\n",
    "for subfolder in subfolders:\n",
    "    if subfolder.__contains__(\"leafSize\"):\n",
    "        continue\n",
    "    if subfolder.__contains__(\"int_ps\"):\n",
    "        continue\n",
    "    if subfolder.__contains__(\"ps\"):\n",
    "        continue\n",
    "    if not subfolder.__contains__(\"_new\"):\n",
    "        continue\n",
    "    \n",
    "\n",
    "    # Define the path to the output file in the current subfolder\n",
    "    output_file = os.path.join(subfolder, \"output_new.csv\")\n",
    "    \n",
    "    # Read the contents of the output file\n",
    "    with open(output_file, \"r\") as file:\n",
    "        lines = file.readlines()\n",
    "    \n",
    "    # Append the lines to the output_lines list\n",
    "    output_lines.extend(lines)\n",
    "\n",
    "# Define the path to the merged output file\n",
    "merged_file = os.path.join(\".\", \"merged_new.csv\")\n",
    "\n",
    "# Write the merged output lines to the merged output file\n",
    "with open(merged_file, \"w\") as file:\n",
    "    file.writelines(output_lines)\n"
   ]
  },
  {
   "cell_type": "markdown",
   "metadata": {},
   "source": [
    "Process the raw output file, by removing header lines and spaces"
   ]
  },
  {
   "cell_type": "code",
   "execution_count": 3,
   "metadata": {},
   "outputs": [],
   "source": [
    "with open('./merged_new.csv', 'r') as file:\n",
    "    lines = file.readlines()\n",
    "\n",
    "# Remove all spaces in all rows\n",
    "lines = [line.replace(' ', '') for line in lines]\n",
    "\n",
    "# Remove lines that are the same as the first one\n",
    "header = lines[0]\n",
    "lines = [line for line in lines[1:] if line != lines[0]]\n",
    "\n",
    "# Join the lines back into a single string\n",
    "output = ''.join(lines)\n",
    "\n",
    "# Save the output to a file\n",
    "with open('preprocessed_new.csv', 'w') as file:\n",
    "    file.write(header)\n",
    "    file.write(output)\n"
   ]
  },
  {
   "cell_type": "code",
   "execution_count": 6,
   "metadata": {},
   "outputs": [],
   "source": [
    "import pandas as pd\n",
    "def separateOps(op):\n",
    "    # Read the CSV file into a pandas DataFrame\n",
    "    df = pd.read_csv('preprocessed_new.csv')\n",
    "\n",
    "\n",
    "    df = df[df['op'] == op]\n",
    "    df.drop(['nodeCount_Leaf', 'nodeCount_Inner', 'nodeCount_Dense', 'nodeCount_Hash', 'nodeCount_Head4', 'nodeCount_Head8', 'nodeCount_Dense2'], axis=1, inplace=True)\n",
    "    df.drop(['cycle', 'instr', 'LLC_miss','CPU','L1_miss', 'br_miss', 'scale', 'counted_final_key_count', 'GHz', 'task', 'IPC'], axis=1, inplace=True)\n",
    "\n",
    "    df\n",
    "    # Drop the 'op' column\n",
    "    df.drop('op', axis=1, inplace=True)\n",
    "\n",
    "    # save the file to op_ycsb_c.csv\n",
    "    df.to_csv(op+'_new.csv', index=False)\n",
    "\n",
    "for op in ['ycsb_c', 'ycsb_c_init', 'ycsb_e', 'ycsb_e_init']:\n",
    "    separateOps(op)\n"
   ]
  },
  {
   "cell_type": "markdown",
   "metadata": {},
   "source": [
    "Process the data in pandas"
   ]
  },
  {
   "cell_type": "code",
   "execution_count": 5,
   "metadata": {},
   "outputs": [],
   "source": [
    "import pandas as pd\n",
    "\n",
    "# Read the CSV file into a pandas DataFrame\n",
    "df = pd.read_csv('preprocessed_new.csv')\n",
    "df = df[df['time'] != 0]\n",
    "df.drop('run_id', axis=1, inplace=True)\n",
    "df.drop('bin_name', axis=1, inplace=True)\n",
    "\n",
    "df['time_per_op'] = df['time'] / df['scale']\n",
    "df.drop('time', axis=1, inplace=True)\n",
    "df.rename(columns={'time_per_op': 'time'}, inplace=True)\n",
    "# Display the DataFrame\n",
    "df.to_csv('preprocessed_new.csv', index=False)\n"
   ]
  },
  {
   "cell_type": "code",
   "execution_count": 1,
   "metadata": {},
   "outputs": [
    {
     "data": {
      "image/png": "[encoded data removed]",
      "text/plain": [
       "<Figure size 640x480 with 1 Axes>"
      ]
     },
     "metadata": {},
     "output_type": "display_data"
    }
   ],
   "source": [
    "import pandas as pd\n",
    "import matplotlib.pyplot as plt\n",
    "\n",
    "# Read the CSV file into a pandas DataFrame\n",
    "df = pd.read_csv('preprocessed_new.csv')\n",
    "\n",
    "# Create a boxplot of the data\n",
    "ax = df.boxplot(column='time', by='op')\n",
    "ax.set_ylabel('time')\n",
    "\n",
    "# Remove the title\n",
    "ax.set_title('')\n",
    "\n",
    "plt.show()\n"
   ]
  },
  {
   "cell_type": "markdown",
   "metadata": {},
   "source": [
    "XAI - provides a way to compute and visualize the importance of features using premutation importance"
   ]
  },
  {
   "cell_type": "code",
   "execution_count": 8,
   "metadata": {},
   "outputs": [
    {
     "data": {
      "text/plain": [
       "config_name                   object\n",
       "const_basicHintCount          object\n",
       "const_enableBasicHead         object\n",
       "const_enableDense             object\n",
       "const_enableDense2            object\n",
       "const_enableDensifySplit      object\n",
       "const_enableHash              object\n",
       "const_enableHashAdapt         object\n",
       "const_enableHeadNode          object\n",
       "const_enablePrefix            object\n",
       "const_hashSimdWidth           object\n",
       "const_hashSortUseStdMerge     object\n",
       "const_hashUseCrc32            object\n",
       "const_hashUseSimd             object\n",
       "const_headNode4HintCount      object\n",
       "const_headNode8HintCount     float64\n",
       "const_pageSizeInner          float64\n",
       "const_pageSizeLeaf           float64\n",
       "data_name                     object\n",
       "data_size                    float64\n",
       "data_sorted                  float64\n",
       "density                      float64\n",
       "op                            object\n",
       "payload_size                 float64\n",
       "rand_seed                    float64\n",
       "ycsb_range_len               float64\n",
       "ycsb_zipf                    float64\n",
       "nodeCount_Leaf               float64\n",
       "nodeCount_Inner              float64\n",
       "nodeCount_Dense              float64\n",
       "nodeCount_Hash               float64\n",
       "nodeCount_Head4              float64\n",
       "nodeCount_Head8              float64\n",
       "nodeCount_Dense2             float64\n",
       "counted_final_key_count      float64\n",
       "cycle                        float64\n",
       "instr                        float64\n",
       "L1_miss                      float64\n",
       "LLC_miss                     float64\n",
       "br_miss                      float64\n",
       "task                         float64\n",
       "scale                        float64\n",
       "IPC                          float64\n",
       "CPU                          float64\n",
       "GHz                          float64\n",
       "time                         float64\n",
       "dtype: object"
      ]
     },
     "execution_count": 8,
     "metadata": {},
     "output_type": "execute_result"
    }
   ],
   "source": [
    "# check the data types\n",
    "df.dtypes"
   ]
  },
  {
   "cell_type": "markdown",
   "metadata": {},
   "source": [
    "SHAP file"
   ]
  },
  {
   "cell_type": "code",
   "execution_count": 9,
   "metadata": {},
   "outputs": [],
   "source": [
    "with open('./shap_raw.csv', 'r') as file:\n",
    "    lines = file.readlines()\n",
    "\n",
    "# Remove all spaces in all rows\n",
    "lines = [line.replace(' ', '') for line in lines]\n",
    "\n",
    "# Remove lines that are the same as the first one\n",
    "header = lines[0]\n",
    "lines = [line for line in lines[1:] if line != lines[0]]\n",
    "\n",
    "# Join the lines back into a single string\n",
    "output = ''.join(lines)\n",
    "\n",
    "# Save the output to a file\n",
    "with open('shap_raw.csv', 'w') as file:\n",
    "    file.write(header)\n",
    "    file.write(output)\n"
   ]
  },
  {
   "cell_type": "code",
   "execution_count": 10,
   "metadata": {},
   "outputs": [
    {
     "ename": "KeyError",
     "evalue": "'time'",
     "output_type": "error",
     "traceback": [
      "\u001b[0;31m---------------------------------------------------------------------------\u001b[0m",
      "\u001b[0;31mKeyError\u001b[0m                                  Traceback (most recent call last)",
      "File \u001b[0;32m~/.cache/pypoetry/virtualenvs/code-RswzgKQQ-py3.11/lib/python3.11/site-packages/pandas/core/indexes/base.py:3791\u001b[0m, in \u001b[0;36mIndex.get_loc\u001b[0;34m(self, key)\u001b[0m\n\u001b[1;32m   3790\u001b[0m \u001b[38;5;28;01mtry\u001b[39;00m:\n\u001b[0;32m-> 3791\u001b[0m     \u001b[38;5;28;01mreturn\u001b[39;00m \u001b[38;5;28;43mself\u001b[39;49m\u001b[38;5;241;43m.\u001b[39;49m\u001b[43m_engine\u001b[49m\u001b[38;5;241;43m.\u001b[39;49m\u001b[43mget_loc\u001b[49m\u001b[43m(\u001b[49m\u001b[43mcasted_key\u001b[49m\u001b[43m)\u001b[49m\n\u001b[1;32m   3792\u001b[0m \u001b[38;5;28;01mexcept\u001b[39;00m \u001b[38;5;167;01mKeyError\u001b[39;00m \u001b[38;5;28;01mas\u001b[39;00m err:\n",
      "File \u001b[0;32mindex.pyx:152\u001b[0m, in \u001b[0;36mpandas._libs.index.IndexEngine.get_loc\u001b[0;34m()\u001b[0m\n",
      "File \u001b[0;32mindex.pyx:181\u001b[0m, in \u001b[0;36mpandas._libs.index.IndexEngine.get_loc\u001b[0;34m()\u001b[0m\n",
      "File \u001b[0;32mpandas/_libs/hashtable_class_helper.pxi:7080\u001b[0m, in \u001b[0;36mpandas._libs.hashtable.PyObjectHashTable.get_item\u001b[0;34m()\u001b[0m\n",
      "File \u001b[0;32mpandas/_libs/hashtable_class_helper.pxi:7088\u001b[0m, in \u001b[0;36mpandas._libs.hashtable.PyObjectHashTable.get_item\u001b[0;34m()\u001b[0m\n",
      "\u001b[0;31mKeyError\u001b[0m: 'time'",
      "\nThe above exception was the direct cause of the following exception:\n",
      "\u001b[0;31mKeyError\u001b[0m                                  Traceback (most recent call last)",
      "Cell \u001b[0;32mIn[10], line 5\u001b[0m\n\u001b[1;32m      3\u001b[0m \u001b[38;5;66;03m# Read the CSV file into a pandas DataFrame\u001b[39;00m\n\u001b[1;32m      4\u001b[0m df \u001b[38;5;241m=\u001b[39m pd\u001b[38;5;241m.\u001b[39mread_csv(\u001b[38;5;124m'\u001b[39m\u001b[38;5;124mshap_raw.csv\u001b[39m\u001b[38;5;124m'\u001b[39m)\n\u001b[0;32m----> 5\u001b[0m df \u001b[38;5;241m=\u001b[39m df[\u001b[43mdf\u001b[49m\u001b[43m[\u001b[49m\u001b[38;5;124;43m'\u001b[39;49m\u001b[38;5;124;43mtime\u001b[39;49m\u001b[38;5;124;43m'\u001b[39;49m\u001b[43m]\u001b[49m \u001b[38;5;241m!=\u001b[39m \u001b[38;5;241m0\u001b[39m]\n\u001b[1;32m      6\u001b[0m df\u001b[38;5;241m.\u001b[39mdrop(\u001b[38;5;124m'\u001b[39m\u001b[38;5;124mrun_id\u001b[39m\u001b[38;5;124m'\u001b[39m, axis\u001b[38;5;241m=\u001b[39m\u001b[38;5;241m1\u001b[39m, inplace\u001b[38;5;241m=\u001b[39m\u001b[38;5;28;01mTrue\u001b[39;00m)\n\u001b[1;32m      7\u001b[0m df\u001b[38;5;241m.\u001b[39mdrop(\u001b[38;5;124m'\u001b[39m\u001b[38;5;124mbin_name\u001b[39m\u001b[38;5;124m'\u001b[39m, axis\u001b[38;5;241m=\u001b[39m\u001b[38;5;241m1\u001b[39m, inplace\u001b[38;5;241m=\u001b[39m\u001b[38;5;28;01mTrue\u001b[39;00m)\n",
      "File \u001b[0;32m~/.cache/pypoetry/virtualenvs/code-RswzgKQQ-py3.11/lib/python3.11/site-packages/pandas/core/frame.py:3893\u001b[0m, in \u001b[0;36mDataFrame.__getitem__\u001b[0;34m(self, key)\u001b[0m\n\u001b[1;32m   3891\u001b[0m \u001b[38;5;28;01mif\u001b[39;00m \u001b[38;5;28mself\u001b[39m\u001b[38;5;241m.\u001b[39mcolumns\u001b[38;5;241m.\u001b[39mnlevels \u001b[38;5;241m>\u001b[39m \u001b[38;5;241m1\u001b[39m:\n\u001b[1;32m   3892\u001b[0m     \u001b[38;5;28;01mreturn\u001b[39;00m \u001b[38;5;28mself\u001b[39m\u001b[38;5;241m.\u001b[39m_getitem_multilevel(key)\n\u001b[0;32m-> 3893\u001b[0m indexer \u001b[38;5;241m=\u001b[39m \u001b[38;5;28;43mself\u001b[39;49m\u001b[38;5;241;43m.\u001b[39;49m\u001b[43mcolumns\u001b[49m\u001b[38;5;241;43m.\u001b[39;49m\u001b[43mget_loc\u001b[49m\u001b[43m(\u001b[49m\u001b[43mkey\u001b[49m\u001b[43m)\u001b[49m\n\u001b[1;32m   3894\u001b[0m \u001b[38;5;28;01mif\u001b[39;00m is_integer(indexer):\n\u001b[1;32m   3895\u001b[0m     indexer \u001b[38;5;241m=\u001b[39m [indexer]\n",
      "File \u001b[0;32m~/.cache/pypoetry/virtualenvs/code-RswzgKQQ-py3.11/lib/python3.11/site-packages/pandas/core/indexes/base.py:3798\u001b[0m, in \u001b[0;36mIndex.get_loc\u001b[0;34m(self, key)\u001b[0m\n\u001b[1;32m   3793\u001b[0m     \u001b[38;5;28;01mif\u001b[39;00m \u001b[38;5;28misinstance\u001b[39m(casted_key, \u001b[38;5;28mslice\u001b[39m) \u001b[38;5;129;01mor\u001b[39;00m (\n\u001b[1;32m   3794\u001b[0m         \u001b[38;5;28misinstance\u001b[39m(casted_key, abc\u001b[38;5;241m.\u001b[39mIterable)\n\u001b[1;32m   3795\u001b[0m         \u001b[38;5;129;01mand\u001b[39;00m \u001b[38;5;28many\u001b[39m(\u001b[38;5;28misinstance\u001b[39m(x, \u001b[38;5;28mslice\u001b[39m) \u001b[38;5;28;01mfor\u001b[39;00m x \u001b[38;5;129;01min\u001b[39;00m casted_key)\n\u001b[1;32m   3796\u001b[0m     ):\n\u001b[1;32m   3797\u001b[0m         \u001b[38;5;28;01mraise\u001b[39;00m InvalidIndexError(key)\n\u001b[0;32m-> 3798\u001b[0m     \u001b[38;5;28;01mraise\u001b[39;00m \u001b[38;5;167;01mKeyError\u001b[39;00m(key) \u001b[38;5;28;01mfrom\u001b[39;00m \u001b[38;5;21;01merr\u001b[39;00m\n\u001b[1;32m   3799\u001b[0m \u001b[38;5;28;01mexcept\u001b[39;00m \u001b[38;5;167;01mTypeError\u001b[39;00m:\n\u001b[1;32m   3800\u001b[0m     \u001b[38;5;66;03m# If we have a listlike key, _check_indexing_error will raise\u001b[39;00m\n\u001b[1;32m   3801\u001b[0m     \u001b[38;5;66;03m#  InvalidIndexError. Otherwise we fall through and re-raise\u001b[39;00m\n\u001b[1;32m   3802\u001b[0m     \u001b[38;5;66;03m#  the TypeError.\u001b[39;00m\n\u001b[1;32m   3803\u001b[0m     \u001b[38;5;28mself\u001b[39m\u001b[38;5;241m.\u001b[39m_check_indexing_error(key)\n",
      "\u001b[0;31mKeyError\u001b[0m: 'time'"
     ]
    }
   ],
   "source": [
    "import pandas as pd\n",
    "\n",
    "# Read the CSV file into a pandas DataFrame\n",
    "df = pd.read_csv('shap_raw.csv')\n",
    "df = df[df['time'] != 0]\n",
    "df.drop('run_id', axis=1, inplace=True)\n",
    "df.drop('bin_name', axis=1, inplace=True)\n",
    "df.drop(['cycle', 'instr', 'LLC_miss','CPU','L1_miss', 'br_miss', 'scale', 'counted_final_key_count', 'GHz', 'time', 'task', 'IPC'], axis=1, inplace=True)\n",
    "df.drop(['nodeCount_Leaf', 'nodeCount_Inner', 'nodeCount_Dense', 'nodeCount_Hash', 'nodeCount_Head4', 'nodeCount_Head8', 'nodeCount_Dense2'], axis=1, inplace=True)\n",
    "\n",
    "# Display the DataFrame\n",
    "df.to_csv('shap_raw.csv', index=False)"
   ]
  },
  {
   "cell_type": "code",
   "execution_count": null,
   "metadata": {},
   "outputs": [],
   "source": []
  }
 ],
 "metadata": {
  "kernelspec": {
   "display_name": "Python 3",
   "language": "python",
   "name": "python3"
  },
  "language_info": {
   "codemirror_mode": {
    "name": "ipython",
    "version": 3
   },
   "file_extension": ".py",
   "mimetype": "text/x-python",
   "name": "python",
   "nbconvert_exporter": "python",
   "pygments_lexer": "ipython3",
   "version": "3.11.4"
  }
 },
 "nbformat": 4,
 "nbformat_minor": 2
}
