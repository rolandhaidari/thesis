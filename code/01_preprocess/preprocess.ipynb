{
 "cells": [
  {
   "cell_type": "markdown",
   "metadata": {},
   "source": [
    "Process the raw output file, by removing header lines and spaces"
   ]
  },
  {
   "cell_type": "code",
   "execution_count": 2,
   "metadata": {},
   "outputs": [],
   "source": [
    "with open('../../output/output.csv', 'r') as file:\n",
    "    lines = file.readlines()\n",
    "\n",
    "# Remove all spaces in all rows\n",
    "lines = [line.replace(' ', '') for line in lines]\n",
    "\n",
    "# Remove lines that are the same as the first one\n",
    "header = lines[0]\n",
    "lines = [line for line in lines[1:] if line != lines[0]]\n",
    "\n",
    "# Join the lines back into a single string\n",
    "output = ''.join(lines)\n",
    "\n",
    "# Save the output to a file\n",
    "with open('preprocessed.csv', 'w') as file:\n",
    "    file.write(header)\n",
    "    file.write(output)\n"
   ]
  },
  {
   "cell_type": "markdown",
   "metadata": {},
   "source": [
    "Process the data in pandas"
   ]
  },
  {
   "cell_type": "code",
   "execution_count": 5,
   "metadata": {},
   "outputs": [],
   "source": [
    "import pandas as pd\n",
    "\n",
    "# Read the CSV file into a pandas DataFrame\n",
    "df = pd.read_csv('preprocessed_without_nan.csv')\n",
    "df = df[df['time'] != 0]\n",
    "df.drop('run_id', axis=1, inplace=True)\n",
    "\n",
    "# Display the DataFrame\n",
    "df.to_csv('preprocessed2.csv', index=False)\n"
   ]
  },
  {
   "cell_type": "code",
   "execution_count": 4,
   "metadata": {},
   "outputs": [
    {
     "data": {
      "text/plain": [
       "bin_name                      object\n",
       "config_name                   object\n",
       "const_basicHintCount           int64\n",
       "const_enableBasicHead          int64\n",
       "const_enableDense              int64\n",
       "const_enableDense2             int64\n",
       "const_enableDensifySplit       int64\n",
       "const_enableHash               int64\n",
       "const_enableHashAdapt          int64\n",
       "const_enableHeadNode           int64\n",
       "const_enablePrefix             int64\n",
       "const_hashSimdWidth            int64\n",
       "const_hashSortUseStdMerge      int64\n",
       "const_hashUseCrc32             int64\n",
       "const_hashUseSimd              int64\n",
       "const_headNode4HintCount       int64\n",
       "const_headNode8HintCount       int64\n",
       "const_pageSizeInner            int64\n",
       "const_pageSizeLeaf             int64\n",
       "data_name                     object\n",
       "data_size                      int64\n",
       "data_sorted                    int64\n",
       "density                      float64\n",
       "op                            object\n",
       "payload_size                   int64\n",
       "rand_seed                      int64\n",
       "run_id                        object\n",
       "ycsb_range_len                 int64\n",
       "ycsb_zipf                    float64\n",
       "time                         float64\n",
       "nodeCount_Leaf                 int64\n",
       "nodeCount_Inner                int64\n",
       "nodeCount_Dense                int64\n",
       "nodeCount_Hash                 int64\n",
       "nodeCount_Head4                int64\n",
       "nodeCount_Head8                int64\n",
       "nodeCount_Dense2               int64\n",
       "counted_final_key_count        int64\n",
       "cycle                        float64\n",
       "instr                        float64\n",
       "L1_miss                      float64\n",
       "LLC_miss                     float64\n",
       "br_miss                      float64\n",
       "task                         float64\n",
       "scale                        float64\n",
       "IPC                          float64\n",
       "CPU                          float64\n",
       "GHz                          float64\n",
       "dtype: object"
      ]
     },
     "execution_count": 4,
     "metadata": {},
     "output_type": "execute_result"
    }
   ],
   "source": [
    "# check the data types\n",
    "df.dtypes"
   ]
  },
  {
   "cell_type": "code",
   "execution_count": null,
   "metadata": {},
   "outputs": [],
   "source": []
  }
 ],
 "metadata": {
  "kernelspec": {
   "display_name": "Python 3",
   "language": "python",
   "name": "python3"
  },
  "language_info": {
   "codemirror_mode": {
    "name": "ipython",
    "version": 3
   },
   "file_extension": ".py",
   "mimetype": "text/x-python",
   "name": "python",
   "nbconvert_exporter": "python",
   "pygments_lexer": "ipython3",
   "version": "3.12.0"
  }
 },
 "nbformat": 4,
 "nbformat_minor": 2
}
